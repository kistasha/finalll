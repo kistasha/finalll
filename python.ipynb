{
 "cells": [
  {
   "cell_type": "code",
   "execution_count": 8,
   "id": "6296a5d3-28cc-4193-af66-5f7cdd818334",
   "metadata": {
    "tags": []
   },
   "outputs": [],
   "source": [
    "def is_power(a,b):\n",
    "    # accounting for specific obvious cases first\n",
    "    if b == 1:\n",
    "        return a == 1 # since it will always be 1\n",
    "    \n",
    "# not going to account for non-integer or negative cases here, running out of time\n",
    "\n",
    "    # initializing the counter for powers that we're gonna be checking\n",
    "    power_count = 1 \n",
    "    b_mult = b # this var will store the result of our multiplications\n",
    "    while b_mult < a:\n",
    "        b_mult *= b\n",
    "        power_count += 1 # incrementing the counter\n",
    "    if b_mult == a:\n",
    "        print(f\"True, because {a} is {b} to the {power_count}th power\")\n",
    "        return True # it returns True a second time but it's okay I guess for now\n",
    "    else:\n",
    "        return False"
   ]
  },
  {
   "cell_type": "code",
   "execution_count": 9,
   "id": "8403748f-595b-4b46-ae0e-3a620386475e",
   "metadata": {
    "tags": []
   },
   "outputs": [
    {
     "name": "stdout",
     "output_type": "stream",
     "text": [
      "True, because 16 is 2 to the 4th power\n",
      "True\n"
     ]
    }
   ],
   "source": [
    "# testing the function\n",
    "print(is_power(16,2))"
   ]
  },
  {
   "cell_type": "code",
   "execution_count": null,
   "id": "f4ef7e24-96e6-44ad-9879-b67699f1ef63",
   "metadata": {},
   "outputs": [],
   "source": []
  }
 ],
 "metadata": {
  "kernelspec": {
   "display_name": "Python 3 (ipykernel)",
   "language": "python",
   "name": "python3"
  },
  "language_info": {
   "codemirror_mode": {
    "name": "ipython",
    "version": 3
   },
   "file_extension": ".py",
   "mimetype": "text/x-python",
   "name": "python",
   "nbconvert_exporter": "python",
   "pygments_lexer": "ipython3",
   "version": "3.10.8"
  }
 },
 "nbformat": 4,
 "nbformat_minor": 5
}
