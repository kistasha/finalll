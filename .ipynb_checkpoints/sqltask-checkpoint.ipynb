{
 "cells": [
  {
   "cell_type": "code",
   "execution_count": 1,
   "id": "8f86d3f6-a72d-4d61-aea1-9a38f878e8cb",
   "metadata": {},
   "outputs": [
    {
     "name": "stdout",
     "output_type": "stream",
     "text": [
      "Requirement already satisfied: ipython-sql in /opt/conda/lib/python3.10/site-packages (0.5.0)\n",
      "Requirement already satisfied: six in /opt/conda/lib/python3.10/site-packages (from ipython-sql) (1.16.0)\n",
      "Requirement already satisfied: sqlalchemy>=2.0 in /opt/conda/lib/python3.10/site-packages (from ipython-sql) (2.0.7)\n",
      "Requirement already satisfied: sqlparse in /opt/conda/lib/python3.10/site-packages (from ipython-sql) (0.4.4)\n",
      "Requirement already satisfied: ipython in /opt/conda/lib/python3.10/site-packages (from ipython-sql) (8.11.0)\n",
      "Requirement already satisfied: ipython-genutils in /opt/conda/lib/python3.10/site-packages (from ipython-sql) (0.2.0)\n",
      "Requirement already satisfied: prettytable in /opt/conda/lib/python3.10/site-packages (from ipython-sql) (3.7.0)\n",
      "Requirement already satisfied: typing-extensions>=4.2.0 in /opt/conda/lib/python3.10/site-packages (from sqlalchemy>=2.0->ipython-sql) (4.5.0)\n",
      "Requirement already satisfied: greenlet!=0.4.17 in /opt/conda/lib/python3.10/site-packages (from sqlalchemy>=2.0->ipython-sql) (2.0.2)\n",
      "Requirement already satisfied: backcall in /opt/conda/lib/python3.10/site-packages (from ipython->ipython-sql) (0.2.0)\n",
      "Requirement already satisfied: stack-data in /opt/conda/lib/python3.10/site-packages (from ipython->ipython-sql) (0.6.2)\n",
      "Requirement already satisfied: decorator in /opt/conda/lib/python3.10/site-packages (from ipython->ipython-sql) (5.1.1)\n",
      "Requirement already satisfied: pickleshare in /opt/conda/lib/python3.10/site-packages (from ipython->ipython-sql) (0.7.5)\n",
      "Requirement already satisfied: pygments>=2.4.0 in /opt/conda/lib/python3.10/site-packages (from ipython->ipython-sql) (2.14.0)\n",
      "Requirement already satisfied: matplotlib-inline in /opt/conda/lib/python3.10/site-packages (from ipython->ipython-sql) (0.1.6)\n",
      "Requirement already satisfied: traitlets>=5 in /opt/conda/lib/python3.10/site-packages (from ipython->ipython-sql) (5.9.0)\n",
      "Requirement already satisfied: jedi>=0.16 in /opt/conda/lib/python3.10/site-packages (from ipython->ipython-sql) (0.18.2)\n",
      "Requirement already satisfied: pexpect>4.3 in /opt/conda/lib/python3.10/site-packages (from ipython->ipython-sql) (4.8.0)\n",
      "Requirement already satisfied: prompt-toolkit!=3.0.37,<3.1.0,>=3.0.30 in /opt/conda/lib/python3.10/site-packages (from ipython->ipython-sql) (3.0.38)\n",
      "Requirement already satisfied: wcwidth in /opt/conda/lib/python3.10/site-packages (from prettytable->ipython-sql) (0.2.6)\n",
      "Requirement already satisfied: parso<0.9.0,>=0.8.0 in /opt/conda/lib/python3.10/site-packages (from jedi>=0.16->ipython->ipython-sql) (0.8.3)\n",
      "Requirement already satisfied: ptyprocess>=0.5 in /opt/conda/lib/python3.10/site-packages (from pexpect>4.3->ipython->ipython-sql) (0.7.0)\n",
      "Requirement already satisfied: executing>=1.2.0 in /opt/conda/lib/python3.10/site-packages (from stack-data->ipython->ipython-sql) (1.2.0)\n",
      "Requirement already satisfied: pure-eval in /opt/conda/lib/python3.10/site-packages (from stack-data->ipython->ipython-sql) (0.2.2)\n",
      "Requirement already satisfied: asttokens>=2.1.0 in /opt/conda/lib/python3.10/site-packages (from stack-data->ipython->ipython-sql) (2.2.1)\n",
      "\u001b[33mWARNING: There was an error checking the latest version of pip.\u001b[0m\u001b[33m\n",
      "\u001b[0m"
     ]
    }
   ],
   "source": [
    "!pip install ipython-sql\n",
    "%load_ext sql"
   ]
  },
  {
   "cell_type": "code",
   "execution_count": 2,
   "id": "d1defea8-2393-4a14-bf1c-8605d879c352",
   "metadata": {},
   "outputs": [
    {
     "name": "stdout",
     "output_type": "stream",
     "text": [
      "POSTGRESQL_USER=reader\n",
      "POSTGRESQL_PASSWORD=Miba2021\n"
     ]
    }
   ],
   "source": [
    "!env | grep POST"
   ]
  },
  {
   "cell_type": "code",
   "execution_count": 3,
   "id": "b960eb94-2e5d-4697-af35-ca002082cdc5",
   "metadata": {},
   "outputs": [],
   "source": [
    "import os\n",
    "USER = os.environ['POSTGRESQL_USER']\n",
    "PASSWORD = os.environ['POSTGRESQL_PASSWORD']\n",
    "POSTGRESQL_HOST = '10.129.0.25'\n",
    "DBASE_NAME = 'demo'"
   ]
  },
  {
   "cell_type": "code",
   "execution_count": 4,
   "id": "b192100b-83a3-4fb8-b1c7-b6cfae7a0633",
   "metadata": {},
   "outputs": [],
   "source": [
    "CONNECT_DATA = 'postgresql://{}:{}@{}/{}'.format(\n",
    "    USER,\n",
    "    PASSWORD,\n",
    "    POSTGRESQL_HOST,\n",
    "    DBASE_NAME\n",
    ")"
   ]
  },
  {
   "cell_type": "code",
   "execution_count": 5,
   "id": "4b37ed5d-177c-494a-b308-5795161ee8a8",
   "metadata": {},
   "outputs": [
    {
     "name": "stdout",
     "output_type": "stream",
     "text": [
      "Done.\n"
     ]
    },
    {
     "data": {
      "text/plain": [
       "[]"
      ]
     },
     "execution_count": 5,
     "metadata": {},
     "output_type": "execute_result"
    }
   ],
   "source": [
    "%%sql postgresql:///jovyan\n",
    "CREATE TABLE Employees (\n",
    "    employee_id smallint NOT NULL,\n",
    "    first_name varchar(20) NOT NULL,\n",
    "    last_name varchar(20) NOT NULL,\n",
    "    hire_date DATE NOT NULL,\n",
    "    EmJOB_ID varchar(20) NOT NULL,\n",
    "    manager_id smallint NOT NULL,\n",
    "    department_id smallint NOT NULL\n",
    ");"
   ]
  },
  {
   "cell_type": "code",
   "execution_count": 6,
   "id": "59dbe4c5-8149-4df4-86ce-d46e942f7a0f",
   "metadata": {},
   "outputs": [
    {
     "name": "stdout",
     "output_type": "stream",
     "text": [
      "Done.\n"
     ]
    },
    {
     "data": {
      "text/plain": [
       "[]"
      ]
     },
     "execution_count": 6,
     "metadata": {},
     "output_type": "execute_result"
    }
   ],
   "source": [
    "%%sql postgresql:///jovyan\n",
    "CREATE TABLE Departments (\n",
    "    department_id smallint NOT NULL,\n",
    "    department_name varchar(30) NOT NULL,\n",
    "    manager_id smallint NOT NULL\n",
    ");"
   ]
  },
  {
   "cell_type": "code",
   "execution_count": 7,
   "id": "854615ed-c9a0-4551-a3fa-741887052ecd",
   "metadata": {},
   "outputs": [
    {
     "name": "stdout",
     "output_type": "stream",
     "text": [
      "1 rows affected.\n",
      "1 rows affected.\n",
      "1 rows affected.\n",
      "1 rows affected.\n",
      "1 rows affected.\n",
      "1 rows affected.\n",
      "1 rows affected.\n",
      "1 rows affected.\n",
      "1 rows affected.\n",
      "1 rows affected.\n",
      "1 rows affected.\n",
      "1 rows affected.\n"
     ]
    },
    {
     "data": {
      "text/plain": [
       "[]"
      ]
     },
     "execution_count": 7,
     "metadata": {},
     "output_type": "execute_result"
    }
   ],
   "source": [
    "%%sql postgresql:///jovyan\n",
    "INSERT INTO Employees VALUES (100,'Steven','King','1987-06-17','AD_PRES',0,90);\n",
    "INSERT INTO Employees VALUES (101,'Neena','Kochhar','1987-06-18','AD_VP',100,90);\n",
    "INSERT INTO Employees VALUES (102,'Lex','DeHaan','1987-06-19','AD_VP',100,90);\n",
    "INSERT INTO Employees VALUES (103,'Alexander','Hunold','1987-06-20','IT_PROG',102,60);\n",
    "INSERT INTO Employees VALUES (107,'Diana','Lorentz','1987-06-24','IT_PROG',103,60);\n",
    "INSERT INTO Employees VALUES (108,'Nancy','Greenberg','1987-06-25','FI_MGR',101,100);\n",
    "INSERT INTO Employees VALUES (109,'Daniel','Faviet','1987-06-26','FI_ACCOUNT',108,100);\n",
    "INSERT INTO Employees VALUES (114,'Den','Raphaely','1987-07-01','PU_MAN',100,30);\n",
    "INSERT INTO Employees VALUES (118,'Guy','Himuro','1987-07-05','PU_CLERK',114,30);\n",
    "INSERT INTO Employees VALUES (144,'Peter','Vargas','1987-07-31','ST_CLERK',114,50);\n",
    "INSERT INTO Employees VALUES (145,'John','Russell','1987-08-01','SA_MAN',100,80);\n",
    "INSERT INTO Employees VALUES (146,'Karen','Partners','1987-08-02','SA_MAN',100,80);"
   ]
  },
  {
   "cell_type": "code",
   "execution_count": 8,
   "id": "37d58486-e0f2-4f75-add5-16d593855f3c",
   "metadata": {},
   "outputs": [
    {
     "name": "stdout",
     "output_type": "stream",
     "text": [
      "1 rows affected.\n",
      "1 rows affected.\n",
      "1 rows affected.\n",
      "1 rows affected.\n",
      "1 rows affected.\n",
      "1 rows affected.\n",
      "1 rows affected.\n",
      "1 rows affected.\n",
      "1 rows affected.\n",
      "1 rows affected.\n"
     ]
    },
    {
     "data": {
      "text/plain": [
       "[]"
      ]
     },
     "execution_count": 8,
     "metadata": {},
     "output_type": "execute_result"
    }
   ],
   "source": [
    "%%sql postgresql:///jovyan\n",
    "INSERT INTO Departments VALUES (10,'Administration',200);\n",
    "INSERT INTO Departments VALUES (30,'Purchasing',114);\n",
    "INSERT INTO Departments VALUES (40,'HumanResources',203);\n",
    "INSERT INTO Departments VALUES (50,'Shipping',121);\n",
    "INSERT INTO Departments VALUES (60,'IT',103);\n",
    "INSERT INTO Departments VALUES (70,'PublicRelations',204);\n",
    "INSERT INTO Departments VALUES (80,'Sales',145);\n",
    "INSERT INTO Departments VALUES (90,'Executive',100);\n",
    "INSERT INTO Departments VALUES (100,'Finance',108);\n",
    "INSERT INTO Departments VALUES (110,'Accounting',205);\n"
   ]
  },
  {
   "cell_type": "code",
   "execution_count": 11,
   "id": "49d52e14-d2ed-42f9-97f0-a51cc2f84849",
   "metadata": {},
   "outputs": [
    {
     "name": "stdout",
     "output_type": "stream",
     "text": [
      " * postgresql:///jovyan\n",
      "5 rows affected.\n"
     ]
    },
    {
     "data": {
      "text/html": [
       "<table>\n",
       "    <thead>\n",
       "        <tr>\n",
       "            <th>department_name</th>\n",
       "            <th>manager_name</th>\n",
       "            <th>number_employees</th>\n",
       "        </tr>\n",
       "    </thead>\n",
       "    <tbody>\n",
       "        <tr>\n",
       "            <td>Executive</td>\n",
       "            <td>Steven King</td>\n",
       "            <td>3</td>\n",
       "        </tr>\n",
       "        <tr>\n",
       "            <td>Finance</td>\n",
       "            <td>Nancy Greenberg</td>\n",
       "            <td>2</td>\n",
       "        </tr>\n",
       "        <tr>\n",
       "            <td>IT</td>\n",
       "            <td>Alexander Hunold</td>\n",
       "            <td>2</td>\n",
       "        </tr>\n",
       "        <tr>\n",
       "            <td>Purchasing</td>\n",
       "            <td>Den Raphaely</td>\n",
       "            <td>2</td>\n",
       "        </tr>\n",
       "        <tr>\n",
       "            <td>Sales</td>\n",
       "            <td>John Russell</td>\n",
       "            <td>2</td>\n",
       "        </tr>\n",
       "    </tbody>\n",
       "</table>"
      ],
      "text/plain": [
       "[('Executive', 'Steven King', 3),\n",
       " ('Finance', 'Nancy Greenberg', 2),\n",
       " ('IT', 'Alexander Hunold', 2),\n",
       " ('Purchasing', 'Den Raphaely', 2),\n",
       " ('Sales', 'John Russell', 2)]"
      ]
     },
     "execution_count": 11,
     "metadata": {},
     "output_type": "execute_result"
    }
   ],
   "source": [
    "%%sql\n",
    "SELECT d.department_name, CONCAT(m.first_name, ' ', m.last_name) AS manager_name, COUNT(e.employee_id) AS number_employees\n",
    "FROM Departments d\n",
    "JOIN Employees e ON d.department_id = e.department_id\n",
    "JOIN Employees m ON d.manager_id = m.employee_id\n",
    "GROUP BY d.department_name, manager_name \n",
    "ORDER BY d.department_name;"
   ]
  },
  {
   "cell_type": "code",
   "execution_count": null,
   "id": "39358fb3-9b25-40d4-a1ef-6bdbd32f86da",
   "metadata": {},
   "outputs": [],
   "source": []
  },
  {
   "cell_type": "code",
   "execution_count": null,
   "id": "c77b2509-fb72-43fd-ac29-316f54874c56",
   "metadata": {},
   "outputs": [],
   "source": []
  }
 ],
 "metadata": {
  "kernelspec": {
   "display_name": "Python 3 (ipykernel)",
   "language": "python",
   "name": "python3"
  },
  "language_info": {
   "codemirror_mode": {
    "name": "ipython",
    "version": 3
   },
   "file_extension": ".py",
   "mimetype": "text/x-python",
   "name": "python",
   "nbconvert_exporter": "python",
   "pygments_lexer": "ipython3",
   "version": "3.10.9"
  }
 },
 "nbformat": 4,
 "nbformat_minor": 5
}
